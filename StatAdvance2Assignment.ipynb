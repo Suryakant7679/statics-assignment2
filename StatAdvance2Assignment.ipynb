{
 "cells": [
  {
   "cell_type": "markdown",
   "id": "fe3aae93-aff4-4bcb-a378-c899c050b3e4",
   "metadata": {},
   "source": [
    "Q1: What are the Probability Mass Function (PMF) and Probability Density Function (PDF)? Explain with\n",
    "an example."
   ]
  },
  {
   "cell_type": "markdown",
   "id": "fe00317b-b26d-4851-976d-502e0119a3e1",
   "metadata": {},
   "source": [
    "Ans:- Probability mass function denotes the probability that a discrete random variable will take on a particular value. Probability density function gives the probability that a continuous random variable will lie between a certain specified interval. It is used for discrete random variables.\n",
    "For example, rolling dice. There are 6 distinct possible outcomes that define the entire sample space {1, 2, 3, 4, 5, 6}."
   ]
  },
  {
   "cell_type": "markdown",
   "id": "35ccb44a-f1c4-4954-b7fd-ce2b8afa0675",
   "metadata": {},
   "source": [
    "Q2: What is Cumulative Density Function (CDF)? Explain with an example. Why CDF is used?"
   ]
  },
  {
   "cell_type": "markdown",
   "id": "84c22f2e-bd95-4ce2-a297-d31752e29d26",
   "metadata": {},
   "source": [
    " Ans:- \n",
    "The cumulative distribution function (CDF) calculates the cumulative probability for a given x-value.\n",
    "Cumulative distribution functions are fantastic for comparing two distributions. By comparing the CDFs of two random variables, we can see if one is more likely to be less than or equal to a specific value than the other. That helps us make decisions about whether one is more likely to have a particular property."
   ]
  },
  {
   "cell_type": "markdown",
   "id": "efc05a30-de22-4f45-8d2d-219cfef14fe6",
   "metadata": {},
   "source": [
    "Q3: What are some examples of situations where the normal distribution might be used as a model?\n",
    "Explain how the parameters of the normal distribution relate to the shape of the distribution."
   ]
  },
  {
   "cell_type": "markdown",
   "id": "1f81ae0b-10cb-4e54-bc87-0581784528f7",
   "metadata": {},
   "source": [
    "Ans:- The height of people is an example of normal distribution. Most of the people in a specific population are of average height. The number of people taller and shorter than the average height people is almost equal, and a very small number of people are either extremely tall or extremely short."
   ]
  },
  {
   "cell_type": "markdown",
   "id": "9eacfa6f-4572-4e07-aca1-e17954c81ad2",
   "metadata": {},
   "source": [
    "Q4: Explain the importance of Normal Distribution. Give a few real-life examples of Normal\n",
    "Distribution."
   ]
  },
  {
   "cell_type": "markdown",
   "id": "41039f42-c916-44e4-9818-8f5ec9036f6b",
   "metadata": {},
   "source": [
    "Ans:- Normal distributions are a family of distributions that have the same general shape. They are symmetric with scores more concentrated in the middle than in the tails. Normal distributions are sometimes described as bell shaped.\n",
    "The height of people is an example of normal distribution. Most of the people in a specific population are of average height. The number of people taller and shorter than the average height people is almost equal, and a very small number of people are either extremely tall or extremely short."
   ]
  },
  {
   "cell_type": "markdown",
   "id": "bd6b9db6-c703-404d-9938-90a9d288b026",
   "metadata": {},
   "source": [
    "Q5: What is Bernaulli Distribution? Give an Example. What is the difference between Bernoulli\n",
    "Distribution and Binomial Distribution?"
   ]
  },
  {
   "cell_type": "markdown",
   "id": "6163f833-72b6-4a88-80a3-1af31f5b3082",
   "metadata": {},
   "source": [
    "Ans:- Bernoulli deals with the outcome of the single trial of the event, whereas Binomial deals with the outcome of the multiple trials of the single event. Bernoulli is used when the outcome of an event is required for only one time, whereas the Binomial is used when the outcome of an event is required multiple times."
   ]
  },
  {
   "cell_type": "markdown",
   "id": "7b5ad5e3-ef98-4ab7-baf5-7937df1cd14d",
   "metadata": {},
   "source": [
    "Q6. Consider a dataset with a mean of 50 and a standard deviation of 10. If we assume that the dataset\n",
    "is normally distributed, what is the probability that a randomly selected observation will be greater\n",
    "than 60? Use the appropriate formula and show your calculations."
   ]
  },
  {
   "cell_type": "markdown",
   "id": "030afa81-0625-4813-91d2-b913c6cb7e4e",
   "metadata": {},
   "source": [
    "Ans:- u=mean=50\n",
    "\n",
    "std=10\n",
    " var=std*std\n",
    "u-std>= x <= u+std = 60\n",
    "50-10 >= x <= 50+10 = 60"
   ]
  },
  {
   "cell_type": "code",
   "execution_count": null,
   "id": "e2f650ae-ff28-4ffa-a497-5b691779a430",
   "metadata": {},
   "outputs": [],
   "source": []
  },
  {
   "cell_type": "markdown",
   "id": "60b7b68f-1fc0-4f45-a535-3d13c3783193",
   "metadata": {},
   "source": [
    "Q7: Explain uniform Distribution with an example."
   ]
  },
  {
   "cell_type": "markdown",
   "id": "660307bd-d98f-4c40-bf30-90b4b54fef14",
   "metadata": {},
   "source": [
    "Ans:- In statistics, uniform distribution refers to a type of probability distribution in which all outcomes are equally likely. A deck of cards has within it uniform distributions because the likelihood of drawing a heart, a club, a diamond, or a spade is equally likely."
   ]
  },
  {
   "cell_type": "markdown",
   "id": "591ef6e2-ae3b-4d94-8fac-02a3988f6418",
   "metadata": {},
   "source": [
    "Q8: What is the z score? State the importance of the z score."
   ]
  },
  {
   "cell_type": "markdown",
   "id": "e2b29239-59bc-4d95-aa57-e01bfee4dc04",
   "metadata": {},
   "source": [
    "Ans:-  z-score measures the distance between a data point and the mean using standard deviations. Z-scores can be positive or negative. The sign tells you whether the observation is above or below the mean."
   ]
  },
  {
   "cell_type": "markdown",
   "id": "aa8ce0c4-e82c-4dc4-b054-660fe07a606b",
   "metadata": {},
   "source": [
    "Q9: What is Central Limit Theorem? State the significance of the Central Limit Theorem."
   ]
  },
  {
   "cell_type": "markdown",
   "id": "c68ee0a0-0b93-46c6-9d02-2e60f71da246",
   "metadata": {},
   "source": [
    "Ans:- he CLT is a statistical theory that states that - if you take a sufficiently large sample size from a population with a finite level of variance, the mean of all samples from that population will be roughly equal to the population mean."
   ]
  },
  {
   "cell_type": "markdown",
   "id": "d38cfed5-102d-45d4-bbb2-23fa20430fee",
   "metadata": {},
   "source": [
    "Q10: State the assumptions of the Central Limit Theorem."
   ]
  },
  {
   "cell_type": "markdown",
   "id": "75d6b5d3-4be6-4c4a-87e1-10ed88dd2824",
   "metadata": {},
   "source": [
    "Ans:-  It needs to be sampled at random. The samples should be unrelated to one another. One sample should not impact the others. When taking samples without replacement, the sample size should not exceed 10% of the population"
   ]
  }
 ],
 "metadata": {
  "kernelspec": {
   "display_name": "Python 3 (ipykernel)",
   "language": "python",
   "name": "python3"
  },
  "language_info": {
   "codemirror_mode": {
    "name": "ipython",
    "version": 3
   },
   "file_extension": ".py",
   "mimetype": "text/x-python",
   "name": "python",
   "nbconvert_exporter": "python",
   "pygments_lexer": "ipython3",
   "version": "3.10.8"
  }
 },
 "nbformat": 4,
 "nbformat_minor": 5
}
